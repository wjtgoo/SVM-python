{
 "cells": [
  {
   "cell_type": "code",
   "execution_count": 1,
   "id": "cd0100d3-c10c-4bd7-b3dd-0bafbd3c4e8f",
   "metadata": {},
   "outputs": [],
   "source": [
    "# Date:2022.11.20 20:20\n",
    "# Auther: WJT\n",
    "# SVM"
   ]
  },
  {
   "cell_type": "code",
   "execution_count": 2,
   "id": "28b78a90-52af-4a96-9e87-2cfc374616f0",
   "metadata": {},
   "outputs": [],
   "source": [
    "import numpy as np"
   ]
  },
  {
   "cell_type": "code",
   "execution_count": 162,
   "id": "bb69913a-367a-401a-9d84-67544e49ba2c",
   "metadata": {},
   "outputs": [],
   "source": [
    "class SVM:\n",
    "    def __init__(self,kernal='linear',C=1):\n",
    "        # 初始化核函数\n",
    "        self.kernal = kernal\n",
    "        # 初始化对偶问题参数\n",
    "        self.alpha = None\n",
    "        self.C = C\n",
    "        # 初始化决策函数参数\n",
    "        self.b = np.random.rand()\n",
    "        self.x = None\n",
    "        self.y = None\n",
    "    def fit(self,x,y,iterations=1000):\n",
    "        '''\n",
    "        训练模型\n",
    "        参数说明：   x n*features_n  np.array\n",
    "                    y n-vector      np.array\n",
    "        USing SMO algorithm\n",
    "        '''\n",
    "        # SMO\n",
    "        # 初始化\n",
    "        self.x = x\n",
    "        self.y = y\n",
    "        self.alpha = np.random.rand(len(x))*self.C\n",
    "        alpha1 = None\n",
    "        alpha2 = None\n",
    "        alpha1_id = None\n",
    "        alpha2_id = None\n",
    "        E_all = np.array([self.E(x,y,x[i],y[i]) for i in range(len(y))])\n",
    "        while(iterations):\n",
    "            # 选择第一个变量\n",
    "            flag = False\n",
    "            for i in range(len(x)):\n",
    "                if self.alpha[i]<self.C and self.alpha[i]>0 :\n",
    "                    if y[i]*self.g(x,y,x[i]) != 1:\n",
    "                        alpha1 = self.alpha[i]\n",
    "                        alpha1_id = i\n",
    "                        flag = True\n",
    "                        break\n",
    "            if flag == False:\n",
    "                for i in range(len(x)):\n",
    "                    if self.alpha[i]==0:\n",
    "                        if y[i]*self.g(x,y,x[i]) < 1:\n",
    "                            alpha1 = self.alpha[i]\n",
    "                            alpha1_id = i\n",
    "                            flag = True\n",
    "                            break\n",
    "                    elif self.alpha[i]==self.C:\n",
    "                        if y[i]*self.g(x,y,x[i]) > 1:\n",
    "                            alpha1 = self.alpha[i]\n",
    "                            alpha1_id = i\n",
    "                            flag = True\n",
    "                            break\n",
    "            # 遍历完数据集后如果还没有发现违反KKT条件的样本点,则得到最优解\n",
    "            if flag == False:\n",
    "                print(\"get optimal alpha\")\n",
    "                break\n",
    "            # 选择第二个变量\n",
    "            E_1 = E_all[alpha1_id]\n",
    "            if E_1 >=0:\n",
    "                alpha2_id = np.argmin(E_all)\n",
    "                alpha2 = self.alpha[alpha2_id]\n",
    "            else:\n",
    "                alpha2_id = np.argmax(E_all)\n",
    "                alpha2 = self.alpha[alpha2_id]\n",
    "            E_2 = E_all[alpha2_id]\n",
    "            # 对alpha1 alpha2进行优化\n",
    "            # 这里是解析解\n",
    "            # 求alpha2的取值边界\n",
    "            if y[alpha2_id] != y[alpha1_id]:\n",
    "                L = np.max([0,alpha2-alpha1])\n",
    "                H = np.min([self.C,self.C+alpha2-alpha1])\n",
    "            else:\n",
    "                L = np.max([0,alpha2+alpha1-self.C])\n",
    "                H = np.min([self.C,alpha2+alpha1])\n",
    "            # eta = K11+K22-K12\n",
    "            eta = self.kernal_(x[alpha1_id],x[alpha1_id])+\\\n",
    "                  self.kernal_(x[alpha2_id],x[alpha2_id])-\\\n",
    "                  2*self.kernal_(x[alpha1_id],x[alpha2_id])\n",
    "            alpha2_uncut = alpha2 + y[alpha2_id]*(E_1-E_2)/eta\n",
    "            if alpha2_uncut>H:\n",
    "                alpha2 = H\n",
    "            elif alpha2_uncut>=L and alpha2_uncut<=H:\n",
    "                alpha2 = alpha2_uncut\n",
    "            else:\n",
    "                alpha2 = L\n",
    "            # 更新alpha\n",
    "            alpha1_old = self.alpha[alpha1_id]\n",
    "            alpha2_old = self.alpha[alpha2_id]\n",
    "            self.alpha[alpha1_id] = alpha1+y[alpha1_id]*y[alpha2_id]*(alpha2_old-alpha2)\n",
    "            self.alpha[alpha2_id] = alpha2\n",
    "            # 更新 b\n",
    "            b1 = -E_1 - \\\n",
    "                y[alpha1_id]*self.kernal_(x[alpha1_id],x[alpha1_id])*(self.alpha[alpha1_id]-alpha1_old)-\\\n",
    "                y[alpha2_id]*self.kernal_(x[alpha2_id],x[alpha1_id])*(self.alpha[alpha2_id]-alpha2_old)+self.b\n",
    "            b2 = -E_2 - \\\n",
    "                y[alpha1_id]*self.kernal_(x[alpha1_id],x[alpha2_id])*(self.alpha[alpha1_id]-alpha1_old)-\\\n",
    "                y[alpha2_id]*self.kernal_(x[alpha2_id],x[alpha2_id])*(self.alpha[alpha2_id]-alpha2_old)+self.b\n",
    "            self.b = (b1+b2)/2\n",
    "            # 更新E\n",
    "            E_all = np.array([self.E(x,y,x[i],y[i]) for i in range(len(y))])\n",
    "            iterations-=1\n",
    "    def predict(self,x):\n",
    "        '''\n",
    "        预测函数\n",
    "        输入:       x n*features_n np.array\n",
    "        输出:       y_pre n-vector\n",
    "        '''\n",
    "        y_pre = np.zeros(len(x))\n",
    "        for i in range(len(x)):\n",
    "            y_pre[i] = np.sum(self.alpha*self.y*self.kernal_(self.x,x[i]),axis=-1)\n",
    "        y_pre +=self.b\n",
    "        y_pre = self.sign(y_pre)\n",
    "        return y_pre\n",
    "    def kernal_(self,x,z,p=2,sigma=1):\n",
    "        if self.kernal == 'linear':\n",
    "            return x@z\n",
    "        elif self.kernal == 'poly':\n",
    "            return np.power(x@z+1,p)# 默认p=2\n",
    "        elif self.kernal == 'gauss':\n",
    "            return np.exp(-np.linalg.norm(x-z,axis=-1)**2/(2*sigma))# 默认sigma=1\n",
    "        else:\n",
    "            raise Exception(\"核函数定义错误！！\")\n",
    "    def g(self,x,y,xi):\n",
    "        return np.sum(self.alpha*y*self.kernal_(x,xi))+self.b\n",
    "    def E(self,x,y,xi,yi):\n",
    "        return self.g(x,y,xi)-yi\n",
    "    def sign(self,x):\n",
    "        if type(x) == np.ndarray:\n",
    "            x[x>=0] = 1\n",
    "            x[x<0] = 0\n",
    "        elif (type(x) == float)|(type(x) == int):\n",
    "            if x>=0:\n",
    "                x = 1\n",
    "            else:\n",
    "                x = 0\n",
    "        return x\n",
    "        "
   ]
  },
  {
   "cell_type": "code",
   "execution_count": 146,
   "id": "e77b2d23-74e6-44ce-a2fd-6ba8771bac9b",
   "metadata": {},
   "outputs": [],
   "source": [
    "from sklearn import datasets\n",
    "from sklearn.model_selection import train_test_split\n",
    "\n",
    "iris = datasets.load_iris()\n",
    "X = iris.data\n",
    "Y = iris.target\n",
    "X = X[Y!=2]\n",
    "Y = Y[Y!=2]\n",
    "X_train, X_test, Y_train, Y_test = train_test_split(X,Y,test_size=0.3)"
   ]
  },
  {
   "cell_type": "code",
   "execution_count": 157,
   "id": "e11331cc-e432-4063-b19e-48fe2bbf2845",
   "metadata": {
    "tags": []
   },
   "outputs": [],
   "source": [
    "svm_clf = SVM('gauss',1)\n",
    "svm_clf.fit(X_train,Y_train,iterations=2000)"
   ]
  },
  {
   "cell_type": "code",
   "execution_count": 158,
   "id": "54635dd9-c4d0-4253-b581-34e0e7843527",
   "metadata": {},
   "outputs": [],
   "source": [
    "y_pre = svm_clf.predict(X_test)"
   ]
  },
  {
   "cell_type": "code",
   "execution_count": 159,
   "id": "20715cef-8ba4-4afe-94e6-b4c3ac57f249",
   "metadata": {},
   "outputs": [
    {
     "data": {
      "text/plain": [
       "array([0., 1., 0., 1., 0., 1., 0., 0., 0., 1., 1., 1., 0., 0., 1., 0., 1.,\n",
       "       1., 0., 0., 1., 0., 0., 0., 0., 0., 0., 0., 1., 1.])"
      ]
     },
     "execution_count": 159,
     "metadata": {},
     "output_type": "execute_result"
    }
   ],
   "source": [
    "y_pre"
   ]
  },
  {
   "cell_type": "code",
   "execution_count": 160,
   "id": "236e1a19-92dd-49b4-9e66-ef07e6af03de",
   "metadata": {},
   "outputs": [
    {
     "data": {
      "text/plain": [
       "array([0, 1, 0, 1, 0, 1, 0, 0, 0, 1, 1, 1, 0, 0, 1, 0, 1, 1, 0, 0, 1, 0,\n",
       "       0, 0, 0, 0, 0, 0, 1, 1])"
      ]
     },
     "execution_count": 160,
     "metadata": {},
     "output_type": "execute_result"
    }
   ],
   "source": [
    "Y_test"
   ]
  },
  {
   "cell_type": "code",
   "execution_count": 163,
   "id": "ad06835b-b2c1-459a-ac82-2211d33cff53",
   "metadata": {},
   "outputs": [
    {
     "name": "stdout",
     "output_type": "stream",
     "text": [
      "验证集正确率： 1.0\n"
     ]
    }
   ],
   "source": [
    "print('验证集正确率：',(y_pre == Y_test).sum()/len(Y_test))"
   ]
  },
  {
   "cell_type": "markdown",
   "id": "f1fdcc14-13f3-438e-afdd-d2c0793af06d",
   "metadata": {},
   "source": [
    "## SKLearn"
   ]
  },
  {
   "cell_type": "code",
   "execution_count": 164,
   "id": "29980035-12bf-495d-a347-701eb63d5292",
   "metadata": {},
   "outputs": [],
   "source": [
    "from sklearn import datasets\n",
    "from sklearn.model_selection import train_test_split\n",
    "\n",
    "iris = datasets.load_iris()\n",
    "X = iris.data\n",
    "Y = iris.target\n",
    "X = X[Y!=2]\n",
    "Y = Y[Y!=2]\n",
    "X_train, X_test, Y_train, Y_test = train_test_split(X,Y,test_size=0.3)"
   ]
  },
  {
   "cell_type": "code",
   "execution_count": 168,
   "id": "241e44e3-5876-486b-9aef-c6d1deee14f1",
   "metadata": {},
   "outputs": [
    {
     "data": {
      "text/html": [
       "<style>#sk-container-id-1 {color: black;background-color: white;}#sk-container-id-1 pre{padding: 0;}#sk-container-id-1 div.sk-toggleable {background-color: white;}#sk-container-id-1 label.sk-toggleable__label {cursor: pointer;display: block;width: 100%;margin-bottom: 0;padding: 0.3em;box-sizing: border-box;text-align: center;}#sk-container-id-1 label.sk-toggleable__label-arrow:before {content: \"▸\";float: left;margin-right: 0.25em;color: #696969;}#sk-container-id-1 label.sk-toggleable__label-arrow:hover:before {color: black;}#sk-container-id-1 div.sk-estimator:hover label.sk-toggleable__label-arrow:before {color: black;}#sk-container-id-1 div.sk-toggleable__content {max-height: 0;max-width: 0;overflow: hidden;text-align: left;background-color: #f0f8ff;}#sk-container-id-1 div.sk-toggleable__content pre {margin: 0.2em;color: black;border-radius: 0.25em;background-color: #f0f8ff;}#sk-container-id-1 input.sk-toggleable__control:checked~div.sk-toggleable__content {max-height: 200px;max-width: 100%;overflow: auto;}#sk-container-id-1 input.sk-toggleable__control:checked~label.sk-toggleable__label-arrow:before {content: \"▾\";}#sk-container-id-1 div.sk-estimator input.sk-toggleable__control:checked~label.sk-toggleable__label {background-color: #d4ebff;}#sk-container-id-1 div.sk-label input.sk-toggleable__control:checked~label.sk-toggleable__label {background-color: #d4ebff;}#sk-container-id-1 input.sk-hidden--visually {border: 0;clip: rect(1px 1px 1px 1px);clip: rect(1px, 1px, 1px, 1px);height: 1px;margin: -1px;overflow: hidden;padding: 0;position: absolute;width: 1px;}#sk-container-id-1 div.sk-estimator {font-family: monospace;background-color: #f0f8ff;border: 1px dotted black;border-radius: 0.25em;box-sizing: border-box;margin-bottom: 0.5em;}#sk-container-id-1 div.sk-estimator:hover {background-color: #d4ebff;}#sk-container-id-1 div.sk-parallel-item::after {content: \"\";width: 100%;border-bottom: 1px solid gray;flex-grow: 1;}#sk-container-id-1 div.sk-label:hover label.sk-toggleable__label {background-color: #d4ebff;}#sk-container-id-1 div.sk-serial::before {content: \"\";position: absolute;border-left: 1px solid gray;box-sizing: border-box;top: 0;bottom: 0;left: 50%;z-index: 0;}#sk-container-id-1 div.sk-serial {display: flex;flex-direction: column;align-items: center;background-color: white;padding-right: 0.2em;padding-left: 0.2em;position: relative;}#sk-container-id-1 div.sk-item {position: relative;z-index: 1;}#sk-container-id-1 div.sk-parallel {display: flex;align-items: stretch;justify-content: center;background-color: white;position: relative;}#sk-container-id-1 div.sk-item::before, #sk-container-id-1 div.sk-parallel-item::before {content: \"\";position: absolute;border-left: 1px solid gray;box-sizing: border-box;top: 0;bottom: 0;left: 50%;z-index: -1;}#sk-container-id-1 div.sk-parallel-item {display: flex;flex-direction: column;z-index: 1;position: relative;background-color: white;}#sk-container-id-1 div.sk-parallel-item:first-child::after {align-self: flex-end;width: 50%;}#sk-container-id-1 div.sk-parallel-item:last-child::after {align-self: flex-start;width: 50%;}#sk-container-id-1 div.sk-parallel-item:only-child::after {width: 0;}#sk-container-id-1 div.sk-dashed-wrapped {border: 1px dashed gray;margin: 0 0.4em 0.5em 0.4em;box-sizing: border-box;padding-bottom: 0.4em;background-color: white;}#sk-container-id-1 div.sk-label label {font-family: monospace;font-weight: bold;display: inline-block;line-height: 1.2em;}#sk-container-id-1 div.sk-label-container {text-align: center;}#sk-container-id-1 div.sk-container {/* jupyter's `normalize.less` sets `[hidden] { display: none; }` but bootstrap.min.css set `[hidden] { display: none !important; }` so we also need the `!important` here to be able to override the default hidden behavior on the sphinx rendered scikit-learn.org. See: https://github.com/scikit-learn/scikit-learn/issues/21755 */display: inline-block !important;position: relative;}#sk-container-id-1 div.sk-text-repr-fallback {display: none;}</style><div id=\"sk-container-id-1\" class=\"sk-top-container\"><div class=\"sk-text-repr-fallback\"><pre>SVC()</pre><b>In a Jupyter environment, please rerun this cell to show the HTML representation or trust the notebook. <br />On GitHub, the HTML representation is unable to render, please try loading this page with nbviewer.org.</b></div><div class=\"sk-container\" hidden><div class=\"sk-item\"><div class=\"sk-estimator sk-toggleable\"><input class=\"sk-toggleable__control sk-hidden--visually\" id=\"sk-estimator-id-1\" type=\"checkbox\" checked><label for=\"sk-estimator-id-1\" class=\"sk-toggleable__label sk-toggleable__label-arrow\">SVC</label><div class=\"sk-toggleable__content\"><pre>SVC()</pre></div></div></div></div></div>"
      ],
      "text/plain": [
       "SVC()"
      ]
     },
     "execution_count": 168,
     "metadata": {},
     "output_type": "execute_result"
    }
   ],
   "source": [
    "from sklearn import svm\n",
    "\n",
    "clf = svm.SVC()\n",
    "clf.fit(X_train,Y_train)"
   ]
  },
  {
   "cell_type": "code",
   "execution_count": 170,
   "id": "99d9f3da-8fae-4027-9b4f-aa3a14f6f5c5",
   "metadata": {},
   "outputs": [],
   "source": [
    "y_pre = clf.predict(X_test)"
   ]
  },
  {
   "cell_type": "code",
   "execution_count": 171,
   "id": "3f359b84-8d87-4504-b176-392ee0774d55",
   "metadata": {},
   "outputs": [
    {
     "name": "stdout",
     "output_type": "stream",
     "text": [
      "验证集正确率： 1.0\n"
     ]
    }
   ],
   "source": [
    "print('验证集正确率：',(y_pre == Y_test).sum()/len(Y_test))"
   ]
  },
  {
   "cell_type": "code",
   "execution_count": null,
   "id": "60f3b516-f943-4218-9c6e-6bdcb2df7c40",
   "metadata": {},
   "outputs": [],
   "source": []
  }
 ],
 "metadata": {
  "kernelspec": {
   "display_name": "Python 3 (ipykernel)",
   "language": "python",
   "name": "python3"
  },
  "language_info": {
   "codemirror_mode": {
    "name": "ipython",
    "version": 3
   },
   "file_extension": ".py",
   "mimetype": "text/x-python",
   "name": "python",
   "nbconvert_exporter": "python",
   "pygments_lexer": "ipython3",
   "version": "3.8.8"
  }
 },
 "nbformat": 4,
 "nbformat_minor": 5
}
